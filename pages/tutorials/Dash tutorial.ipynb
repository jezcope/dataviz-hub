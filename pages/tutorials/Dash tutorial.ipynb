{
 "cells": [
  {
   "cell_type": "markdown",
   "metadata": {},
   "source": [
    "# Dash tutorial\n",
    "### Dash is a user interface library for creating analytical web applications. Those who use Python for data analysis, data exploration, visualization, modelling, instrument control, and reporting will find immediate use for Dash.\n",
    "\n",
    "\n",
    "<div class=\"alert alert-block alert-info\">\n",
    "<b>Full documentation:</b>\n",
    "https://plot.ly/dash/ <br><br>\n",
    "<b>Related technologies:</b><br>\n",
    "Pandas: https://pandas.pydata.org/<br>\n",
    "Plotly: https://plot.ly/<br>\n",
    "React.js: https://reactjs.org/<br>  \n",
    "Flask: http://flask.pocoo.org/<br>\n",
    "</div>"
   ]
  },
  {
   "cell_type": "markdown",
   "metadata": {},
   "source": [
    "### 1. Installation\n",
    "In order to run Dash app in a Flask server install the following libraries <br>\n",
    "<div class=\"alert alert-block alert-warning\">\n",
    "Make sure you have installed <b>Python</b> (https://www.python.org/downloads/) and <b>pip</b> (https://pip.pypa.io/en/stable/installing/) \n",
    "</div>"
   ]
  },
  {
   "cell_type": "code",
   "execution_count": null,
   "metadata": {},
   "outputs": [],
   "source": [
    "pip install dash==0.19.0  # The core dash backend\n",
    "pip install dash-renderer==0.11.1  # The dash front-end\n",
    "pip install dash-html-components==0.8.0  # HTML components\n",
    "pip install dash-core-components==0.15.2  # Supercharged components\n",
    "pip install plotly --upgrade  # Latest Plotly graphing library"
   ]
  },
  {
   "cell_type": "markdown",
   "metadata": {},
   "source": [
    "### 2. About this example\n",
    "In this example we are going to build a graph that shows life expectancy in comparison to GDP per capita based in all countries around the World.\n",
    "\n",
    "### 3. First step\n",
    "Besides Dash, we are using __Pandas__ for extract and manipulate data and __Plotly__ to render the output into a Graph. In order to use those libraries all you have to do is use __import__ at the beginning of your code."
   ]
  },
  {
   "cell_type": "code",
   "execution_count": 1,
   "metadata": {},
   "outputs": [],
   "source": [
    "import dash\n",
    "import dash_core_components as dcc\n",
    "import dash_html_components as html\n",
    "\n",
    "import plotly.graph_objs as go\n",
    "\n",
    "import pandas as pd\n",
    "\n",
    "import IPython"
   ]
  },
  {
   "cell_type": "markdown",
   "metadata": {},
   "source": [
    "### 4. Download and read a CSV file\n",
    "Use Panda's __read_csv__ function in order to download and extract your Dataset. \n",
    "When you read a CSV, you get a kind of object called a DataFrame, which is made up of rows and columns. You get columns out of a DataFrame the same way you get elements out of a dictionary."
   ]
  },
  {
   "cell_type": "code",
   "execution_count": 2,
   "metadata": {},
   "outputs": [],
   "source": [
    "df = pd.read_csv('https://ndownloader.figsh.com/files/8261349')"
   ]
  },
  {
   "cell_type": "markdown",
   "metadata": {},
   "source": [
    "### 5. Preview Dataset\n",
    "Function __head()__ gives you a preview of the download Dataset"
   ]
  },
  {
   "cell_type": "code",
   "execution_count": 3,
   "metadata": {},
   "outputs": [
    {
     "data": {
      "text/html": [
       "<div>\n",
       "<style scoped>\n",
       "    .dataframe tbody tr th:only-of-type {\n",
       "        vertical-align: middle;\n",
       "    }\n",
       "\n",
       "    .dataframe tbody tr th {\n",
       "        vertical-align: top;\n",
       "    }\n",
       "\n",
       "    .dataframe thead th {\n",
       "        text-align: right;\n",
       "    }\n",
       "</style>\n",
       "<table border=\"1\" class=\"dataframe\">\n",
       "  <thead>\n",
       "    <tr style=\"text-align: right;\">\n",
       "      <th></th>\n",
       "      <th>Unnamed: 0</th>\n",
       "      <th>country</th>\n",
       "      <th>continent</th>\n",
       "      <th>population</th>\n",
       "      <th>life expectancy</th>\n",
       "      <th>gdp per capita</th>\n",
       "    </tr>\n",
       "  </thead>\n",
       "  <tbody>\n",
       "    <tr>\n",
       "      <th>0</th>\n",
       "      <td>11</td>\n",
       "      <td>Afghanistan</td>\n",
       "      <td>Asia</td>\n",
       "      <td>31889923.0</td>\n",
       "      <td>43.828</td>\n",
       "      <td>974.580338</td>\n",
       "    </tr>\n",
       "    <tr>\n",
       "      <th>1</th>\n",
       "      <td>23</td>\n",
       "      <td>Albania</td>\n",
       "      <td>Europe</td>\n",
       "      <td>3600523.0</td>\n",
       "      <td>76.423</td>\n",
       "      <td>5937.029526</td>\n",
       "    </tr>\n",
       "    <tr>\n",
       "      <th>2</th>\n",
       "      <td>35</td>\n",
       "      <td>Algeria</td>\n",
       "      <td>Africa</td>\n",
       "      <td>33333216.0</td>\n",
       "      <td>72.301</td>\n",
       "      <td>6223.367465</td>\n",
       "    </tr>\n",
       "    <tr>\n",
       "      <th>3</th>\n",
       "      <td>47</td>\n",
       "      <td>Angola</td>\n",
       "      <td>Africa</td>\n",
       "      <td>12420476.0</td>\n",
       "      <td>42.731</td>\n",
       "      <td>4797.231267</td>\n",
       "    </tr>\n",
       "    <tr>\n",
       "      <th>4</th>\n",
       "      <td>59</td>\n",
       "      <td>Argentina</td>\n",
       "      <td>Americas</td>\n",
       "      <td>40301927.0</td>\n",
       "      <td>75.320</td>\n",
       "      <td>12779.379640</td>\n",
       "    </tr>\n",
       "  </tbody>\n",
       "</table>\n",
       "</div>"
      ],
      "text/plain": [
       "   Unnamed: 0      country continent  population  life expectancy  \\\n",
       "0          11  Afghanistan      Asia  31889923.0           43.828   \n",
       "1          23      Albania    Europe   3600523.0           76.423   \n",
       "2          35      Algeria    Africa  33333216.0           72.301   \n",
       "3          47       Angola    Africa  12420476.0           42.731   \n",
       "4          59    Argentina  Americas  40301927.0           75.320   \n",
       "\n",
       "   gdp per capita  \n",
       "0      974.580338  \n",
       "1     5937.029526  \n",
       "2     6223.367465  \n",
       "3     4797.231267  \n",
       "4    12779.379640  "
      ]
     },
     "execution_count": 3,
     "metadata": {},
     "output_type": "execute_result"
    }
   ],
   "source": [
    "df.head()"
   ]
  },
  {
   "attachments": {
    "filter.PNG": {
     "image/png": "[encoded data removed]"
    }
   },
   "cell_type": "markdown",
   "metadata": {},
   "source": [
    "### 6. Layout\n",
    "Dash apps are composed of two parts: __Layout__ and __Interactivity__.  \n",
    "The first part is the \"layout\" of the app and it describes what the application looks like.  \n",
    "\n",
    "In this example we are going to create two kinds of filter:\n",
    "- Countries: Multiple selection combo box with a list of all countries included on the Dataset\n",
    "- Life Expectancy: Slider with a range of ages (min and max)\n",
    "![filter.PNG](attachment:filter.PNG)\n"
   ]
  },
  {
   "cell_type": "code",
   "execution_count": 4,
   "metadata": {},
   "outputs": [],
   "source": [
    "countries = df['country'].unique()\n",
    "\n",
    "app = dash.Dash()\n",
    "\n",
    "app.layout = html.Div([\n",
    "    \n",
    "    html.Div([\n",
    "        html.Label('Country'),\n",
    "        dcc.Dropdown(\n",
    "            id='country',\n",
    "            options=[{'label': i, 'value': i} for i in countries],\n",
    "            value='',\n",
    "            placeholder='Select...',\n",
    "            multi=True\n",
    "        )\n",
    "    ],    \n",
    "    style={'width': '20%', 'display': 'inline-block', 'margin-bottom': '20px'}),    \n",
    "\n",
    "    html.Div([\n",
    "        html.Label('Life Expectancy'),\n",
    "        dcc.Slider(\n",
    "            id='expectancy-slider',\n",
    "            min=30,\n",
    "            max=80,\n",
    "            value=30,\n",
    "            step=None,\n",
    "            marks={'30':'>30', '40':'>40', '50':'>50', '60':'>60', '70':'>70', '80':'>80'}\n",
    "        ),\n",
    "    ],\n",
    "    style={'width': '20%', 'display': 'inline-block', 'margin-bottom': '20px', 'margin-left': '20px'}),\n",
    "\n",
    "    html.Div([\n",
    "        dcc.Graph(id='life-exp-vs-gdp'),\n",
    "    ],\n",
    "    style={'width': '70%'}),\n",
    "])"
   ]
  },
  {
   "cell_type": "markdown",
   "metadata": {},
   "source": [
    "### 7. Interactivity\n",
    "Dash provides a simple reactive decorator for binding your custom data analysis code to your Dash user interface.  \n",
    "When an input element changes (e.g. when you select an item in the dropdown or drag the slider), Dash’s decorator provides your Python code with the new value of the input.  \n",
    "In this example we are calling __upate_graph__ function each time either a Country is selected or a life expectancy is set."
   ]
  },
  {
   "cell_type": "code",
   "execution_count": 5,
   "metadata": {},
   "outputs": [],
   "source": [
    "@app.callback(\n",
    "    dash.dependencies.Output('life-exp-vs-gdp', 'figure'),\n",
    "    [\n",
    "        dash.dependencies.Input('expectancy-slider', 'value'),\n",
    "        dash.dependencies.Input('country', 'value')\n",
    "    ])\n",
    "def update_graph(expectancy, country):\n",
    "    \n",
    "    filtered_df = df.loc[df[\"life expectancy\"] > expectancy]\n",
    "\n",
    "    if (country != '' and country is not None):\n",
    "        filtered_df = filtered_df[df.country.str.contains('|'.join(country))]\n",
    "\n",
    "    traces = []\n",
    "    for i in filtered_df.continent.unique():\n",
    "        df_by_continent = filtered_df[filtered_df['continent'] == i]\n",
    "        traces.append(go.Scatter(\n",
    "            x=df_by_continent['gdp per capita'],\n",
    "            y=df_by_continent['life expectancy'],\n",
    "            text=df_by_continent['country'],\n",
    "            mode='markers',\n",
    "            opacity=0.7,\n",
    "            marker={\n",
    "                'size': 15,\n",
    "                'line': {'width': 0.5, 'color': 'white'}\n",
    "            },\n",
    "            name=i\n",
    "        ))\n",
    "\n",
    "    return {\n",
    "        'data': traces,\n",
    "        'layout': go.Layout(\n",
    "            xaxis={'title': 'GDP Per Capita', 'titlefont': dict(size=18, color='darkgrey'), 'zeroline': False, 'ticks': 'outside' },\n",
    "            yaxis={'title': 'Life Expectancy', 'titlefont': dict(size=18, color='darkgrey'), 'range': [30, 90], 'ticks': 'outside'},\n",
    "            margin={'l': 60, 'b': 60, 't': 30, 'r': 20},\n",
    "            legend={'x': 1, 'y': 1},\n",
    "            hovermode='closest'\n",
    "        )\n",
    "    }"
   ]
  },
  {
   "cell_type": "markdown",
   "metadata": {},
   "source": [
    "### 8. Style\n",
    "Every aesthetic element of the app is customisable: The sizing, the positioning, the colors, the fonts.<br>Dash apps are built and published in the Web, so the full power of CSS is available. <br>\n",
    "Use __app.css.append_css__ in order to set an external CSS file"
   ]
  },
  {
   "cell_type": "code",
   "execution_count": null,
   "metadata": {},
   "outputs": [],
   "source": [
    "app.css.append_css({\n",
    "    \"external_url\": \"https://codepen.io/chriddyp/pen/bWLwgP.css\"\n",
    "})"
   ]
  },
  {
   "cell_type": "markdown",
   "metadata": {},
   "source": [
    "### 9. Running Application \n",
    "Dash apps are web applications. Dash uses Flask as the web framework. The underlying Flask app is available at app.server, and for the purpose of running the application you should call __run_server__ function in your python code as you can see below.<br>\n",
    "\n",
    "   \n",
    "Once your app is running it is accessible in a local server; the default address is http://127.0.0.1:8050/"
   ]
  },
  {
   "cell_type": "code",
   "execution_count": null,
   "metadata": {},
   "outputs": [],
   "source": [
    "if __name__ == '__main__':\n",
    "    app.run_server(debug=True)"
   ]
  },
  {
   "cell_type": "markdown",
   "metadata": {},
   "source": [
    "<div class=\"alert alert-block alert-danger\">\n",
    "As I am running the current example on <b>Heroku</b>, I need the following step in order to show you the ouput embeded on a iframe.\n",
    "</div>"
   ]
  },
  {
   "cell_type": "code",
   "execution_count": 4,
   "metadata": {},
   "outputs": [
    {
     "data": {
      "text/html": [
       "\n",
       "        <iframe\n",
       "            width=\"900\"\n",
       "            height=\"600\"\n",
       "            src=\"https://dash-tutorial.herokuapp.com/\"\n",
       "            frameborder=\"0\"\n",
       "            allowfullscreen\n",
       "        ></iframe>\n",
       "        "
      ],
      "text/plain": [
       "<IPython.lib.display.IFrame at 0x300b7d0>"
      ]
     },
     "execution_count": 4,
     "metadata": {},
     "output_type": "execute_result"
    }
   ],
   "source": [
    "from IPython.display import IFrame\n",
    "IFrame('https://dash-tutorial.herokuapp.com/',width=900, height=600)"
   ]
  }
 ],
 "metadata": {
  "kernelspec": {
   "display_name": "Python 3",
   "language": "python",
   "name": "python3"
  },
  "language_info": {
   "codemirror_mode": {
    "name": "ipython",
    "version": 3
   },
   "file_extension": ".py",
   "mimetype": "text/x-python",
   "name": "python",
   "nbconvert_exporter": "python",
   "pygments_lexer": "ipython3",
   "version": "3.6.3"
  }
 },
 "nbformat": 4,
 "nbformat_minor": 2
}
